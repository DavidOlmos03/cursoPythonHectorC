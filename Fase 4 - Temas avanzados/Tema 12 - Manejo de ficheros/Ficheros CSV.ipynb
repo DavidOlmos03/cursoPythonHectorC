{
 "cells": [
  {
   "cell_type": "markdown",
   "id": "c856c028",
   "metadata": {},
   "source": [
    " ```\n",
    " Ficheros CSV\n",
    " Valores se parados por comas (comma-separated values)\n",
    " Documentación: https://docs.python.org/es/3/library/csv.html\n",
    "```"
   ]
  },
  {
   "cell_type": "code",
   "execution_count": 1,
   "id": "ac2e5314",
   "metadata": {},
   "outputs": [],
   "source": [
    "import csv"
   ]
  },
  {
   "cell_type": "code",
   "execution_count": 2,
   "id": "cde9fe2a",
   "metadata": {},
   "outputs": [],
   "source": [
    "contactos = [\n",
    "    (\"Manuel\", \"Desarrollador Web\", \"manuel@ejemplo.com\"),\n",
    "    (\"Lorena\", \"Gestora de proyectos\", \"lorena@ejemplo.com\"),\n",
    "    (\"Javier\", \"Analista de datos\", \"javier@ejemplo.com\"),\n",
    "    (\"Marta\", \"Experta en Python\", \"marta@ejemplo.com\")\n",
    "]"
   ]
  },
  {
   "cell_type": "markdown",
   "id": "bc38aec0",
   "metadata": {},
   "source": [
    "##### Escribir datos"
   ]
  },
  {
   "cell_type": "code",
   "execution_count": 5,
   "id": "9f393f39",
   "metadata": {},
   "outputs": [],
   "source": [
    "with open('contactos.csv',\"w\", newline='\\n') as csvfile:\n",
    "    writer = csv.writer(csvfile, delimiter=',')\n",
    "    for contacto in contactos:\n",
    "        writer.writerow(contacto)"
   ]
  },
  {
   "cell_type": "markdown",
   "id": "e6682167",
   "metadata": {},
   "source": [
    "##### Leer los datos"
   ]
  },
  {
   "cell_type": "code",
   "execution_count": 6,
   "id": "e53c47fc",
   "metadata": {},
   "outputs": [
    {
     "name": "stdout",
     "output_type": "stream",
     "text": [
      "['Manuel', 'Desarrollador Web', 'manuel@ejemplo.com']\n",
      "['Lorena', 'Gestora de proyectos', 'lorena@ejemplo.com']\n",
      "['Javier', 'Analista de datos', 'javier@ejemplo.com']\n",
      "['Marta', 'Experta en Python', 'marta@ejemplo.com']\n"
     ]
    }
   ],
   "source": [
    "with open('contactos.csv', newline='\\n') as csvfile:\n",
    "    reader = csv.reader(csvfile, delimiter=\",\")\n",
    "    for contacto in reader:\n",
    "        print(contacto)"
   ]
  },
  {
   "cell_type": "markdown",
   "id": "b8186755",
   "metadata": {},
   "source": [
    "##### Leer los datos (forma 2)"
   ]
  },
  {
   "cell_type": "code",
   "execution_count": 7,
   "id": "b6992e0b",
   "metadata": {},
   "outputs": [
    {
     "name": "stdout",
     "output_type": "stream",
     "text": [
      "Manuel Desarrollador Web manuel@ejemplo.com\n",
      "Lorena Gestora de proyectos lorena@ejemplo.com\n",
      "Javier Analista de datos javier@ejemplo.com\n",
      "Marta Experta en Python marta@ejemplo.com\n"
     ]
    }
   ],
   "source": [
    "with open('contactos.csv', newline='\\n') as csvfile:\n",
    "    reader = csv.reader(csvfile, delimiter=\",\")\n",
    "    for nombre, empleo, email in reader:\n",
    "        print(nombre, empleo, email)"
   ]
  },
  {
   "cell_type": "markdown",
   "id": "e3dd7703",
   "metadata": {},
   "source": [
    "## Trabajo con diccionarios\n",
    "```\n",
    "    DictWriter para escribir \n",
    "    DictReader para leer\n",
    "```"
   ]
  },
  {
   "cell_type": "code",
   "execution_count": 8,
   "id": "fb86c806",
   "metadata": {},
   "outputs": [],
   "source": [
    "contactos = [\n",
    "    (\"Manuel\", \"Desarrollador Web\", \"manuel@ejemplo.com\"),\n",
    "    (\"Lorena\", \"Gestora de proyectos\", \"lorena@ejemplo.com\"),\n",
    "    (\"Javier\", \"Analista de datos\", \"javier@ejemplo.com\"),\n",
    "    (\"Marta\", \"Experta en Python\", \"marta@ejemplo.com\")\n",
    "]"
   ]
  },
  {
   "cell_type": "code",
   "execution_count": 11,
   "id": "24d6146c",
   "metadata": {},
   "outputs": [],
   "source": [
    "with open('contactos.csv',\"w\", newline='\\n') as csvfile:\n",
    "    campos = ['nombre','empleo','email']\n",
    "    writer = csv.DictWriter(csvfile, fieldnames = campos)\n",
    "    writer.writeheader()\n",
    "    for contacto in contactos:\n",
    "        writer.writerow({\n",
    "            'nombre': nombre,\n",
    "            'empleo': empleo,\n",
    "            'email': email\n",
    "        })"
   ]
  },
  {
   "cell_type": "code",
   "execution_count": 13,
   "id": "c901c6d0",
   "metadata": {},
   "outputs": [
    {
     "name": "stdout",
     "output_type": "stream",
     "text": [
      "Marta Experta en Python marta@ejemplo.com\n",
      "Marta Experta en Python marta@ejemplo.com\n",
      "Marta Experta en Python marta@ejemplo.com\n",
      "Marta Experta en Python marta@ejemplo.com\n"
     ]
    }
   ],
   "source": [
    "with open('contactos.csv', newline='\\n') as csvfile:\n",
    "    reader = csv.DictReader(csvfile)\n",
    "    for contacto in reader:\n",
    "        print(contacto[nombre], contacto[empleo], contacto[email])"
   ]
  },
  {
   "cell_type": "code",
   "execution_count": null,
   "id": "304a73f2",
   "metadata": {},
   "outputs": [],
   "source": []
  }
 ],
 "metadata": {
  "kernelspec": {
   "display_name": "Python 3 (ipykernel)",
   "language": "python",
   "name": "python3"
  },
  "language_info": {
   "codemirror_mode": {
    "name": "ipython",
    "version": 3
   },
   "file_extension": ".py",
   "mimetype": "text/x-python",
   "name": "python",
   "nbconvert_exporter": "python",
   "pygments_lexer": "ipython3",
   "version": "3.11.5"
  }
 },
 "nbformat": 4,
 "nbformat_minor": 5
}
