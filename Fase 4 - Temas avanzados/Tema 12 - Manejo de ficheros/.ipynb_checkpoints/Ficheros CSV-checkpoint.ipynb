{
 "cells": [
  {
   "cell_type": "markdown",
   "id": "4dfc8361",
   "metadata": {},
   "source": [
    " ```\n",
    " Ficheros CSV\n",
    " Valores se parados por comas (comma-separated values)\n",
    " Documentación: https://docs.python.org/es/3/library/csv.html\n",
    "```"
   ]
  },
  {
   "cell_type": "code",
   "execution_count": 1,
   "id": "26a30b8d",
   "metadata": {},
   "outputs": [],
   "source": [
    "import csv"
   ]
  },
  {
   "cell_type": "code",
   "execution_count": 2,
   "id": "c9625db2",
   "metadata": {},
   "outputs": [],
   "source": [
    "contactos = [\n",
    "    (\"Manuel\", \"Desarrollador Web\", \"manuel@ejemplo.com\"),\n",
    "    (\"Lorena\", \"Gestora de proyectos\", \"lorena@ejemplo.com\"),\n",
    "    (\"Javier\", \"Analista de datos\", \"javier@ejemplo.com\"),\n",
    "    (\"Marta\", \"Experta en Python\", \"marta@ejemplo.com\")\n",
    "]"
   ]
  },
  {
   "cell_type": "markdown",
   "id": "655f3a3f",
   "metadata": {},
   "source": [
    "##### Escribir datos"
   ]
  },
  {
   "cell_type": "code",
   "execution_count": 5,
   "id": "3fae5e1d",
   "metadata": {},
   "outputs": [],
   "source": [
    "with open('contactos.csv',\"w\", newline='\\n') as csvfile:\n",
    "    writer = csv.writer(csvfile, delimiter=',')\n",
    "    for contacto in contactos:\n",
    "        writer.writerow(contacto)"
   ]
  },
  {
   "cell_type": "markdown",
   "id": "03944a2f",
   "metadata": {},
   "source": [
    "##### Leer los datos"
   ]
  },
  {
   "cell_type": "code",
   "execution_count": 6,
   "id": "b14837d7",
   "metadata": {},
   "outputs": [
    {
     "name": "stdout",
     "output_type": "stream",
     "text": [
      "['Manuel', 'Desarrollador Web', 'manuel@ejemplo.com']\n",
      "['Lorena', 'Gestora de proyectos', 'lorena@ejemplo.com']\n",
      "['Javier', 'Analista de datos', 'javier@ejemplo.com']\n",
      "['Marta', 'Experta en Python', 'marta@ejemplo.com']\n"
     ]
    }
   ],
   "source": [
    "with open('contactos.csv', newline='\\n') as csvfile:\n",
    "    reader = csv.reader(csvfile, delimiter=\",\")\n",
    "    for contacto in reader:\n",
    "        print(contacto)"
   ]
  },
  {
   "cell_type": "markdown",
   "id": "11303988",
   "metadata": {},
   "source": [
    "##### Leer los datos (forma 2)"
   ]
  },
  {
   "cell_type": "code",
   "execution_count": 7,
   "id": "b8a88bf2",
   "metadata": {},
   "outputs": [
    {
     "name": "stdout",
     "output_type": "stream",
     "text": [
      "Manuel Desarrollador Web manuel@ejemplo.com\n",
      "Lorena Gestora de proyectos lorena@ejemplo.com\n",
      "Javier Analista de datos javier@ejemplo.com\n",
      "Marta Experta en Python marta@ejemplo.com\n"
     ]
    }
   ],
   "source": [
    "with open('contactos.csv', newline='\\n') as csvfile:\n",
    "    reader = csv.reader(csvfile, delimiter=\",\")\n",
    "    for nombre, empleo, email in reader:\n",
    "        print(nombre, empleo, email)"
   ]
  },
  {
   "cell_type": "markdown",
   "id": "780a72dc",
   "metadata": {},
   "source": [
    "## Trabajo con diccionarios\n",
    "```\n",
    "    DictWriter para escribir \n",
    "    DictReader para leer\n",
    "```"
   ]
  },
  {
   "cell_type": "code",
   "execution_count": 8,
   "id": "0674413f",
   "metadata": {},
   "outputs": [],
   "source": [
    "contactos = [\n",
    "    (\"Manuel\", \"Desarrollador Web\", \"manuel@ejemplo.com\"),\n",
    "    (\"Lorena\", \"Gestora de proyectos\", \"lorena@ejemplo.com\"),\n",
    "    (\"Javier\", \"Analista de datos\", \"javier@ejemplo.com\"),\n",
    "    (\"Marta\", \"Experta en Python\", \"marta@ejemplo.com\")\n",
    "]"
   ]
  },
  {
   "cell_type": "code",
   "execution_count": 11,
   "id": "36e25968",
   "metadata": {},
   "outputs": [],
   "source": [
    "with open('contactos.csv',\"w\", newline='\\n') as csvfile:\n",
    "    campos = ['nombre','empleo','email']\n",
    "    writer = csv.DictWriter(csvfile, fieldnames = campos)\n",
    "    writer.writeheader()\n",
    "    for contacto in contactos:\n",
    "        writer.writerow({\n",
    "            'nombre': nombre,\n",
    "            'empleo': empleo,\n",
    "            'email': email\n",
    "        })"
   ]
  },
  {
   "cell_type": "code",
   "execution_count": 13,
   "id": "a7f30013",
   "metadata": {},
   "outputs": [
    {
     "name": "stdout",
     "output_type": "stream",
     "text": [
      "Marta Experta en Python marta@ejemplo.com\n",
      "Marta Experta en Python marta@ejemplo.com\n",
      "Marta Experta en Python marta@ejemplo.com\n",
      "Marta Experta en Python marta@ejemplo.com\n"
     ]
    }
   ],
   "source": [
    "with open('contactos.csv', newline='\\n') as csvfile:\n",
    "    reader = csv.DictReader(csvfile)\n",
    "    for contacto in reader:\n",
    "        print(contacto[nombre], contacto[empleo], contacto[email])"
   ]
  },
  {
   "cell_type": "code",
   "execution_count": null,
   "id": "d07ee5c4",
   "metadata": {},
   "outputs": [],
   "source": []
  }
 ],
 "metadata": {
  "kernelspec": {
   "display_name": "Python 3 (ipykernel)",
   "language": "python",
   "name": "python3"
  },
  "language_info": {
   "codemirror_mode": {
    "name": "ipython",
    "version": 3
   },
   "file_extension": ".py",
   "mimetype": "text/x-python",
   "name": "python",
   "nbconvert_exporter": "python",
   "pygments_lexer": "ipython3",
   "version": "3.11.5"
  }
 },
 "nbformat": 4,
 "nbformat_minor": 5
}
