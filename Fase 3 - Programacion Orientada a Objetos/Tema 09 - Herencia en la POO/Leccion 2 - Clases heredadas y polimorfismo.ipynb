{
 "cells": [
  {
   "cell_type": "code",
   "execution_count": 2,
   "metadata": {},
   "outputs": [],
   "source": [
    "class Producto:\n",
    "    def __init__(self,referencia,nombre,pvp,descripcion):\n",
    "        self.referencia = referencia\n",
    "        self.nombre = nombre\n",
    "        self.pvp = pvp\n",
    "        self.descripcion = descripcion\n",
    "        \n",
    "    def __str__(self):\n",
    "        return \"\"\"\\\n",
    "REFERENCIA\\t{}\n",
    "NOMBRE\\t\\t{}\n",
    "PVP\\t\\t{}\n",
    "DESCRIPCIÓN\\t{}\"\"\".format(self.referencia,self.nombre,self.pvp,self.descripcion)\n",
    "    \n",
    "\n",
    "class Adorno(Producto):\n",
    "    pass\n",
    "\n",
    "\n",
    "class Alimento(Producto):\n",
    "    productor = \"\"\n",
    "    distribuidor = \"\"\n",
    "    \n",
    "    def __str__(self):\n",
    "        return \"\"\"\\\n",
    "REFERENCIA\\t{}\n",
    "NOMBRE\\t\\t{}\n",
    "PVP\\t\\t{}\n",
    "DESCRIPCIÓN\\t{}\n",
    "PRODUCTOR\\t{}\n",
    "DISTRIBUIDOR\\t{}\"\"\".format(self.referencia,self.nombre,self.pvp,self.descripcion,self.productor,self.distribuidor)\n",
    "\n",
    "\n",
    "class Libro(Producto):\n",
    "    isbn = \"\"\n",
    "    autor = \"\"\n",
    "    \n",
    "    def __str__(self):\n",
    "        return \"\"\"\\\n",
    "REFERENCIA\\t{}\n",
    "NOMBRE\\t\\t{}\n",
    "PVP\\t\\t{}\n",
    "DESCRIPCIÓN\\t{}\n",
    "ISBN\\t\\t{}\n",
    "AUTOR\\t\\t{}\"\"\".format(self.referencia,self.nombre,self.pvp,self.descripcion,self.isbn,self.autor)"
   ]
  },
  {
   "cell_type": "code",
   "execution_count": 3,
   "metadata": {},
   "outputs": [],
   "source": [
    "ad = Adorno(2023,\"Vaso adornado\", 15, \"Vaso de porcelana adornado con árboles\")\n",
    "\n",
    "a1 = Alimento(2035,\"Botella de aceite de Oliva Extra\",5,\"250 ML\")\n",
    "a1.productor = \"La Aceitera\"\n",
    "a1.distribuidor = \"Distribuciones SA\"\n",
    "\n",
    "li1 = Libro(2036, \"Cocina mediterránea\", 9, \"Recetas sanas y buenas\")\n",
    "li1.isbn = \"0-123243-213\"\n",
    "li1.autor = \"Juana\"\n"
   ]
  },
  {
   "cell_type": "code",
   "execution_count": 3,
   "metadata": {},
   "outputs": [],
   "source": [
    "productos = [ad,a1]"
   ]
  },
  {
   "cell_type": "code",
   "execution_count": 4,
   "metadata": {},
   "outputs": [],
   "source": [
    "productos.append(li1)"
   ]
  },
  {
   "cell_type": "code",
   "execution_count": 5,
   "metadata": {},
   "outputs": [
    {
     "data": {
      "text/plain": [
       "[<__main__.Adorno at 0x28836e0ab90>,\n",
       " <__main__.Alimento at 0x28836e099d0>,\n",
       " <__main__.Libro at 0x28836e0b690>]"
      ]
     },
     "execution_count": 5,
     "metadata": {},
     "output_type": "execute_result"
    }
   ],
   "source": [
    "productos"
   ]
  },
  {
   "cell_type": "code",
   "execution_count": 8,
   "metadata": {},
   "outputs": [
    {
     "name": "stdout",
     "output_type": "stream",
     "text": [
      "REFERENCIA\t2023\n",
      "NOMBRE\t\tVaso adornado\n",
      "PVP\t\t15\n",
      "DESCRIPCIÓN\tVaso de porcelana adornado con árboles \n",
      "\n",
      "REFERENCIA\t2035\n",
      "NOMBRE\t\tBotella de aceite de Oliva Extra\n",
      "PVP\t\t5\n",
      "DESCRIPCIÓN\t250 ML\n",
      "PRODUCTOR\tLa Aceitera\n",
      "DISTRIBUIDOR\tDistribuciones SA \n",
      "\n",
      "REFERENCIA\t2036\n",
      "NOMBRE\t\tCocina mediterránea\n",
      "PVP\t\t9\n",
      "DESCRIPCIÓN\tRecetas sanas y buenas\n",
      "ISBN\t\t0-123243-213\n",
      "AUTOR\t\tJuana \n",
      "\n"
     ]
    }
   ],
   "source": [
    "for p in productos:\n",
    "    print(p,\"\\n\")"
   ]
  },
  {
   "cell_type": "code",
   "execution_count": 10,
   "metadata": {},
   "outputs": [
    {
     "name": "stdout",
     "output_type": "stream",
     "text": [
      "2023 Vaso adornado\n",
      "2035 Botella de aceite de Oliva Extra\n",
      "2036 Cocina mediterránea\n"
     ]
    }
   ],
   "source": [
    "for p in productos:\n",
    "    print(p.referencia,p.nombre)"
   ]
  },
  {
   "cell_type": "code",
   "execution_count": 11,
   "metadata": {},
   "outputs": [
    {
     "ename": "AttributeError",
     "evalue": "'Adorno' object has no attribute 'autor'",
     "output_type": "error",
     "traceback": [
      "\u001b[1;31m---------------------------------------------------------------------------\u001b[0m",
      "\u001b[1;31mAttributeError\u001b[0m                            Traceback (most recent call last)",
      "Cell \u001b[1;32mIn[11], line 2\u001b[0m\n\u001b[0;32m      1\u001b[0m \u001b[38;5;28;01mfor\u001b[39;00m p \u001b[38;5;129;01min\u001b[39;00m productos:\n\u001b[1;32m----> 2\u001b[0m     \u001b[38;5;28mprint\u001b[39m(\u001b[43mp\u001b[49m\u001b[38;5;241;43m.\u001b[39;49m\u001b[43mautor\u001b[49m)\n",
      "\u001b[1;31mAttributeError\u001b[0m: 'Adorno' object has no attribute 'autor'"
     ]
    }
   ],
   "source": [
    "for p in productos:\n",
    "    print(p.autor)"
   ]
  },
  {
   "cell_type": "code",
   "execution_count": 14,
   "metadata": {},
   "outputs": [
    {
     "name": "stdout",
     "output_type": "stream",
     "text": [
      "2023 Vaso adornado\n",
      "2035 Botella de aceite de Oliva Extra La Aceitera\n",
      "2036 Cocina mediterránea 0-123243-213\n"
     ]
    }
   ],
   "source": [
    "for p in productos:\n",
    "    if isinstance(p,Adorno):\n",
    "        print(p.referencia,p.nombre)\n",
    "    elif isinstance(p, Alimento):\n",
    "        print(p.referencia,p.nombre, p.productor)\n",
    "    elif isinstance(p,Libro):\n",
    "        print(p.referencia, p.nombre, p.isbn)"
   ]
  },
  {
   "cell_type": "code",
   "execution_count": 19,
   "metadata": {},
   "outputs": [
    {
     "name": "stdout",
     "output_type": "stream",
     "text": [
      "REFERENCIA\t2035\n",
      "NOMBRE\t\tBotella de aceite de Oliva Extra\n",
      "PVP\t\t3.6449999999999996\n",
      "DESCRIPCIÓN\t250 ML\n",
      "PRODUCTOR\tLa Aceitera\n",
      "DISTRIBUIDOR\tDistribuciones SA\n"
     ]
    }
   ],
   "source": [
    "def rebajar_producto(p, rebaja):\n",
    "    \"\"\"Devuelve un producto con una rebaja en porcentaje de su precio\"\"\"\n",
    "    p.pvp = p.pvp - (p.pvp/100 * rebaja)\n",
    "    return p\n",
    "\n",
    "a1_rebajado = rebajar_producto(a1,10)\n",
    "print(a1)\n"
   ]
  },
  {
   "cell_type": "code",
   "execution_count": 20,
   "metadata": {},
   "outputs": [
    {
     "name": "stdout",
     "output_type": "stream",
     "text": [
      "REFERENCIA\t2035\n",
      "NOMBRE\t\tBotella de aceite de Oliva Extra\n",
      "PVP\t\t3.6449999999999996\n",
      "DESCRIPCIÓN\t250 ML\n",
      "PRODUCTOR\tLa Aceitera\n",
      "DISTRIBUIDOR\tDistribuciones SA\n"
     ]
    }
   ],
   "source": [
    "print(a1_rebajado)"
   ]
  },
  {
   "cell_type": "code",
   "execution_count": 5,
   "metadata": {},
   "outputs": [
    {
     "name": "stdout",
     "output_type": "stream",
     "text": [
      "REFERENCIA\t2035\n",
      "NOMBRE\t\tBotella de aceite de Oliva Extra\n",
      "PVP\t\t5\n",
      "DESCRIPCIÓN\t250 ML\n",
      "PRODUCTOR\tLa Aceitera\n",
      "DISTRIBUIDOR\tDistribuciones SA\n"
     ]
    }
   ],
   "source": []
  },
  {
   "cell_type": "code",
   "execution_count": null,
   "metadata": {},
   "outputs": [],
   "source": []
  }
 ],
 "metadata": {
  "kernelspec": {
   "display_name": "Python 3 (ipykernel)",
   "language": "python",
   "name": "python3"
  },
  "language_info": {
   "codemirror_mode": {
    "name": "ipython",
    "version": 3
   },
   "file_extension": ".py",
   "mimetype": "text/x-python",
   "name": "python",
   "nbconvert_exporter": "python",
   "pygments_lexer": "ipython3",
   "version": "3.11.5"
  }
 },
 "nbformat": 4,
 "nbformat_minor": 1
}
