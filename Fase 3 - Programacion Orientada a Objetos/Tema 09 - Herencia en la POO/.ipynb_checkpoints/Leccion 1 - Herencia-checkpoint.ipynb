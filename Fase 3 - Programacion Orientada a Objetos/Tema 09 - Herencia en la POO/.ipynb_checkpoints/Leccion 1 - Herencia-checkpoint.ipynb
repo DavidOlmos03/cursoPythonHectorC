{
 "cells": [
  {
   "cell_type": "code",
   "execution_count": 2,
   "metadata": {},
   "outputs": [
    {
     "name": "stdout",
     "output_type": "stream",
     "text": [
      "REFERENCIA\t2023\n",
      "NOMBRE\t\tVaso adornado\n",
      "PVP\t\t15\n",
      "DESCRIPCION\tVaso de porcelana adornado con árboles\n"
     ]
    }
   ],
   "source": [
    "# Superclase\n",
    "class Producto:\n",
    "    def __init__(self, referencia, nombre, pvp, descripcion):\n",
    "        self.referencia = referencia\n",
    "        self.pvp = pvp\n",
    "        self.nombre = nombre\n",
    "        self.descripcion = descripcion\n",
    "    def __str__(self):\n",
    "        return f\"\"\"\\\n",
    "REFERENCIA\\t{self.referencia}\n",
    "NOMBRE\\t\\t{self.nombre}\n",
    "PVP\\t\\t{self.pvp}\n",
    "DESCRIPCION\\t{self.descripcion}\"\"\"\n",
    "    \n",
    "class Adorno(Producto):\n",
    "    pass\n",
    "\n",
    "a = Adorno(2023,\"Vaso adornado\", 15, \"Vaso de porcelana adornado con árboles\")\n",
    "print(a)    "
   ]
  },
  {
   "cell_type": "code",
   "execution_count": 5,
   "metadata": {},
   "outputs": [
    {
     "name": "stdout",
     "output_type": "stream",
     "text": [
      "REFERENCIA\t2035\n",
      "NOMBRE\t\tBotella de aceite de Oliva Extra\n",
      "PVP\t\t5\n",
      "DESCRIPCION\t250 ML\n",
      "PRODUCTOR\tLa Aceitera\n",
      "DISTRIBUIDOR\tDistribuciones SA\n"
     ]
    }
   ],
   "source": [
    "# Sub clase de Producto, esta hereda los atributos definidos en Producto\n",
    "class Alimento(Producto):\n",
    "    productor = \"\"\n",
    "    distribuidor = \"\"\n",
    "    \n",
    "    def __str__(self):\n",
    "        return f\"\"\"\\\n",
    "REFERENCIA\\t{self.referencia}\n",
    "NOMBRE\\t\\t{self.nombre}\n",
    "PVP\\t\\t{self.pvp}\n",
    "DESCRIPCION\\t{self.descripcion}\n",
    "PRODUCTOR\\t{self.productor}\n",
    "DISTRIBUIDOR\\t{self.distribuidor}\"\"\"\n",
    "    \n",
    "    \n",
    "a1 = Alimento(2035,\"Botella de aceite de Oliva Extra\",5,\"250 ML\")\n",
    "a1.productor = \"La Aceitera\"\n",
    "a1.distribuidor = \"Distribuciones SA\"\n",
    "\n",
    "print(a1)"
   ]
  },
  {
   "cell_type": "code",
   "execution_count": null,
   "metadata": {},
   "outputs": [],
   "source": [
    "# Sub clase de Producto, esta hereda los atributos definidos en Producto\n",
    "class Libro(Producto):\n",
    "    isbn = \"\"\n",
    "    autor= \"\"\n",
    "    \n",
    "    def __str__(self):\n",
    "        return f\"\"\"\\\n",
    "REFERENCIA\\t{self.referencia}\n",
    "NOMBRE\\t\\t{self.nombre}\n",
    "PVP\\t\\t{self.pvp}\n",
    "DESCRIPCION\\t{self.descripcion}\n",
    "ISBN\\t{self.isbn}\n",
    "AUTOR\\t{self.autor}\"\"\""
   ]
  }
 ],
 "metadata": {
  "kernelspec": {
   "display_name": "Python 3 (ipykernel)",
   "language": "python",
   "name": "python3"
  },
  "language_info": {
   "codemirror_mode": {
    "name": "ipython",
    "version": 3
   },
   "file_extension": ".py",
   "mimetype": "text/x-python",
   "name": "python",
   "nbconvert_exporter": "python",
   "pygments_lexer": "ipython3",
   "version": "3.11.5"
  }
 },
 "nbformat": 4,
 "nbformat_minor": 1
}
