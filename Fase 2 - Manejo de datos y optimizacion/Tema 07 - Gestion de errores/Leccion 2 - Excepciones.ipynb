{
 "cells": [
  {
   "cell_type": "code",
   "execution_count": 1,
   "metadata": {},
   "outputs": [
    {
     "name": "stdout",
     "output_type": "stream",
     "text": [
      "Introduce un número: 2\n",
      "2.0/4=0.5\n"
     ]
    }
   ],
   "source": [
    "n = float(input(\"Introduce un número: \"))\n",
    "m = 4\n",
    "print(f\"{n}/{m}={n/m}\")"
   ]
  },
  {
   "cell_type": "code",
   "execution_count": 5,
   "metadata": {},
   "outputs": [
    {
     "name": "stdout",
     "output_type": "stream",
     "text": [
      "Introduce un número: o\n",
      "Ha ocurrido un error, introduce bien el número\n",
      "Introduce un número: i\n",
      "Ha ocurrido un error, introduce bien el número\n",
      "Introduce un número: fd\n",
      "Ha ocurrido un error, introduce bien el número\n",
      "Introduce un número: asdf\n",
      "Ha ocurrido un error, introduce bien el número\n",
      "Introduce un número: fsdaf\n",
      "Ha ocurrido un error, introduce bien el número\n",
      "Introduce un número: adsf\n",
      "Ha ocurrido un error, introduce bien el número\n",
      "Introduce un número: 10\n",
      "10.0/4=2.5\n"
     ]
    }
   ],
   "source": [
    "while(True):\n",
    "    try:\n",
    "        n = float(input(\"Introduce un número: \"))\n",
    "        m = 4\n",
    "        print(f\"{n}/{m}={n/m}\")\n",
    "        break  #importante romper la iteración si todo ha salido bien\n",
    "    except:\n",
    "        print(\"Ha ocurrido un error, introduce bien el número\")"
   ]
  },
  {
   "cell_type": "code",
   "execution_count": 7,
   "metadata": {},
   "outputs": [
    {
     "name": "stdout",
     "output_type": "stream",
     "text": [
      "Introduce un número: iw\n",
      "Ha ocurrido un error, introduce bien el número\n",
      "Introduce un número: iw\n",
      "Ha ocurrido un error, introduce bien el número\n",
      "Introduce un número: 10\n",
      "10.0/4=2.5\n",
      "Todo funciona correctamente\n"
     ]
    }
   ],
   "source": [
    "while(True):\n",
    "    try:\n",
    "        n = float(input(\"Introduce un número: \"))\n",
    "        m = 4\n",
    "        print(f\"{n}/{m}={n/m}\")\n",
    "    except:\n",
    "        print(\"Ha ocurrido un error, introduce bien el número\")\n",
    "    else:\n",
    "        print(\"Todo funciona correctamente\")\n",
    "        break  #importante romper la iteración si todo ha salido bien"
   ]
  },
  {
   "cell_type": "code",
   "execution_count": 8,
   "metadata": {},
   "outputs": [
    {
     "name": "stdout",
     "output_type": "stream",
     "text": [
      "Introduce un número: io\n",
      "Ha ocurrido un error, introduce bien el número\n",
      "Fin de la iteración\n",
      "Introduce un número: io\n",
      "Ha ocurrido un error, introduce bien el número\n",
      "Fin de la iteración\n",
      "Introduce un número: 10\n",
      "10.0/4=2.5\n",
      "Todo funciona correctamente\n",
      "Fin de la iteración\n"
     ]
    }
   ],
   "source": [
    "while(True):\n",
    "    try:\n",
    "        n = float(input(\"Introduce un número: \"))\n",
    "        m = 4\n",
    "        print(f\"{n}/{m}={n/m}\")\n",
    "    except:\n",
    "        print(\"Ha ocurrido un error, introduce bien el número\")\n",
    "    else:\n",
    "        print(\"Todo funciona correctamente\")\n",
    "        break  #importante romper la iteración si todo ha salido bien\n",
    "    finally:\n",
    "        print(\"Fin de la iteración\")"
   ]
  },
  {
   "cell_type": "code",
   "execution_count": 15,
   "metadata": {},
   "outputs": [
    {
     "name": "stdout",
     "output_type": "stream",
     "text": [
      "No se puede dividir entre cero\n"
     ]
    }
   ],
   "source": [
    "def dividir(a, b):\n",
    "    try:\n",
    "        return a/b\n",
    "    except:\n",
    "        print(\"No se puede dividir entre cero\")\n",
    "        \n",
    "dividir(2,0)"
   ]
  },
  {
   "cell_type": "code",
   "execution_count": null,
   "metadata": {},
   "outputs": [],
   "source": []
  }
 ],
 "metadata": {
  "kernelspec": {
   "display_name": "Python 3 (ipykernel)",
   "language": "python",
   "name": "python3"
  },
  "language_info": {
   "codemirror_mode": {
    "name": "ipython",
    "version": 3
   },
   "file_extension": ".py",
   "mimetype": "text/x-python",
   "name": "python",
   "nbconvert_exporter": "python",
   "pygments_lexer": "ipython3",
   "version": "3.11.5"
  }
 },
 "nbformat": 4,
 "nbformat_minor": 1
}
