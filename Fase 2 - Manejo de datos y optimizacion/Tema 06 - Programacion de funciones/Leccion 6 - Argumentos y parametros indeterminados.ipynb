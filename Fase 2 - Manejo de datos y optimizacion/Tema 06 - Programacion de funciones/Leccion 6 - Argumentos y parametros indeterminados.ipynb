{
 "cells": [
  {
   "cell_type": "code",
   "execution_count": 1,
   "metadata": {},
   "outputs": [
    {
     "name": "stdout",
     "output_type": "stream",
     "text": [
      "5\n",
      "Hola\n",
      "[1, 2, 3, 4, 5]\n"
     ]
    }
   ],
   "source": [
    "def indeterminados_posicion(*args):\n",
    "    for arg in args:\n",
    "        print(arg)\n",
    "\n",
    "indeterminados_posicion(5,\"Hola\",[1,2,3,4,5])"
   ]
  },
  {
   "cell_type": "markdown",
   "metadata": {},
   "source": [
    "### Trabajo con diccionarios"
   ]
  },
  {
   "cell_type": "code",
   "execution_count": 2,
   "metadata": {},
   "outputs": [
    {
     "name": "stdout",
     "output_type": "stream",
     "text": [
      "{'n': 5, 'c': 'Hola', 'l': [1, 2, 3, 4, 5]}\n"
     ]
    }
   ],
   "source": [
    "def indeterminados_nombre(**kwargs):\n",
    "    print(kwargs)\n",
    "\n",
    "indeterminados_nombre(n=5,c=\"Hola\",l=[1,2,3,4,5])"
   ]
  },
  {
   "cell_type": "code",
   "execution_count": 4,
   "metadata": {},
   "outputs": [
    {
     "name": "stdout",
     "output_type": "stream",
     "text": [
      "n = 5\n",
      "c = Hola\n",
      "l = [1, 2, 3, 4, 5]\n"
     ]
    }
   ],
   "source": [
    "def indeterminados_nombre(**kwargs):\n",
    "    for kwarg in kwargs:\n",
    "        print(f\"{kwarg} = {kwargs[kwarg]}\")\n",
    "\n",
    "indeterminados_nombre(n=5,c=\"Hola\",l=[1,2,3,4,5])"
   ]
  },
  {
   "cell_type": "markdown",
   "metadata": {},
   "source": [
    "### Trabajando con args y kwargs"
   ]
  },
  {
   "cell_type": "code",
   "execution_count": 5,
   "metadata": {},
   "outputs": [],
   "source": [
    "def super_funcion(*args,**kwargs):\n",
    "    t = 0\n",
    "    for arg in args:\n",
    "        t += arg\n",
    "    print(f\"Sumatorio indeterminado es = {t}\")\n",
    "    \n",
    "    for kwarg in kwargs:\n",
    "        print(f\"{kwarg} = {kwargs[kwarg]}\")"
   ]
  },
  {
   "cell_type": "code",
   "execution_count": 6,
   "metadata": {},
   "outputs": [
    {
     "name": "stdout",
     "output_type": "stream",
     "text": [
      "Sumatorio indeterminado es = 11\n",
      "nombre = Hector\n",
      "edad = 25\n"
     ]
    }
   ],
   "source": [
    "super_funcion(2,4,1,4,nombre=\"Hector\",edad=25)"
   ]
  },
  {
   "cell_type": "code",
   "execution_count": null,
   "metadata": {},
   "outputs": [],
   "source": []
  }
 ],
 "metadata": {
  "kernelspec": {
   "display_name": "Python 3 (ipykernel)",
   "language": "python",
   "name": "python3"
  },
  "language_info": {
   "codemirror_mode": {
    "name": "ipython",
    "version": 3
   },
   "file_extension": ".py",
   "mimetype": "text/x-python",
   "name": "python",
   "nbconvert_exporter": "python",
   "pygments_lexer": "ipython3",
   "version": "3.11.5"
  }
 },
 "nbformat": 4,
 "nbformat_minor": 1
}
