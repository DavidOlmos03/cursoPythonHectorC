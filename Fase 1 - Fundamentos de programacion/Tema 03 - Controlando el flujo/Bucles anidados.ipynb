{
 "cells": [
  {
   "cell_type": "markdown",
   "id": "289fd84d",
   "metadata": {},
   "source": [
    "<div class=\"alert alert-danger alert-block text-center\"><b>Estudio preliminar</b></div>"
   ]
  },
  {
   "cell_type": "code",
   "execution_count": 1,
   "id": "d7e37118",
   "metadata": {},
   "outputs": [
    {
     "name": "stdout",
     "output_type": "stream",
     "text": [
      "0 0 0 \n",
      "1 1 1 \n",
      "2 2 2 \n"
     ]
    }
   ],
   "source": [
    "tabla = [\n",
    "    [0,0,0],\n",
    "    [1,1,1],\n",
    "    [2,2,2]\n",
    "]\n",
    "for fila in tabla:\n",
    "    for columna in fila:\n",
    "        print(columna, end=\" \")\n",
    "    print()"
   ]
  },
  {
   "cell_type": "code",
   "execution_count": 7,
   "id": "ed35f3b1",
   "metadata": {},
   "outputs": [
    {
     "name": "stdout",
     "output_type": "stream",
     "text": [
      "0 0 0 \n",
      "1 1 1 \n",
      "2 2 2 \n"
     ]
    }
   ],
   "source": [
    "for i, fila in enumerate(tabla):\n",
    "    for j, columna in enumerate(fila):\n",
    "        print(tabla[i][j], end=\" \")\n",
    "    print()"
   ]
  },
  {
   "cell_type": "markdown",
   "id": "5f186f52",
   "metadata": {},
   "source": [
    "## Cubo"
   ]
  },
  {
   "cell_type": "code",
   "execution_count": 8,
   "id": "c18df98a",
   "metadata": {},
   "outputs": [],
   "source": [
    "tabla = [\n",
    "    [0,0,0],\n",
    "    [1,1,1],\n",
    "    [2,2,2]\n",
    "]\n",
    "cubo = [\n",
    "    tabla, tabla, tabla\n",
    "]"
   ]
  },
  {
   "cell_type": "code",
   "execution_count": 13,
   "id": "962a7201",
   "metadata": {},
   "outputs": [
    {
     "name": "stdout",
     "output_type": "stream",
     "text": [
      "0 0 0 \n",
      "1 1 1 \n",
      "2 2 2 \n",
      "\n",
      "\n",
      "0 0 0 \n",
      "1 1 1 \n",
      "2 2 2 \n",
      "\n",
      "\n",
      "0 0 0 \n",
      "1 1 1 \n",
      "2 2 2 \n",
      "\n",
      "\n"
     ]
    }
   ],
   "source": [
    "for k, tabla in enumerate(cubo):\n",
    "    for i, fila in enumerate(tabla):\n",
    "        for j, columna in enumerate(fila):\n",
    "            print(cubo[k][i][j], end=\" \")\n",
    "        print(\"\")\n",
    "    print(\"\\n\")\n"
   ]
  },
  {
   "cell_type": "markdown",
   "id": "b7ac22a3",
   "metadata": {},
   "source": [
    "<div class=\"alert alert-success alert-block text-center\"><b>Bucles anidados (Ejercicios)</b></div>"
   ]
  },
  {
   "cell_type": "markdown",
   "id": "1eec1af8",
   "metadata": {},
   "source": [
    "En este ejercicio se te va a facilitar una variable matriz repleta de números enteros y de la cuál lo único que sabes es que contiene dos dimensiones.\n",
    "\n",
    "Aquí tienes una estructura de ejemplo ilustrando como se forma (lista con sublistas), muy parecida a una tabla:\n",
    "\n",
    "\n",
    "$$matriz = \\begin{bmatrix} 8 & 7 & 0 \\\\ 34 & 2 & -1\\\\5 & -5 & 12\\end{bmatrix}$$  \n",
    "\n",
    "\n",
    "El objetivo del ejercicio es modificar su contenido dinámicamente, sustituyendo todos sus números pares por 0 y los impares por 1.\n",
    "\n",
    "Siguiendo el ejemplo anterior la matriz tal como quedará después de que la modifiques sería así:\n",
    "\n",
    "\n",
    "$$matriz = \\begin{bmatrix} 0 & 1 & 0 \\\\ 0 & 0 & 1\\\\ 1 & 1 & 0\\end{bmatrix}$$  \n"
   ]
  },
  {
   "cell_type": "code",
   "execution_count": 16,
   "id": "e45f90a1",
   "metadata": {},
   "outputs": [
    {
     "data": {
      "text/plain": [
       "[[0, 1, 0], [0, 0, 1], [1, 1, 0]]"
      ]
     },
     "execution_count": 16,
     "metadata": {},
     "output_type": "execute_result"
    }
   ],
   "source": [
    "matriz = [\n",
    "    [8,  7,  0],\n",
    "    [34, 2, -1],\n",
    "    [5, -5, 12]\n",
    "]\n",
    "for i, fila in enumerate(matriz):\n",
    "    for j, elemento in enumerate(fila):\n",
    "        if(elemento%2 == 0):\n",
    "            matriz[i][j] = 0\n",
    "        else:\n",
    "            matriz[i][j] = 1\n",
    "\n",
    "matriz"
   ]
  },
  {
   "cell_type": "code",
   "execution_count": null,
   "id": "02a567b5",
   "metadata": {},
   "outputs": [],
   "source": []
  }
 ],
 "metadata": {
  "kernelspec": {
   "display_name": "Python 3 (ipykernel)",
   "language": "python",
   "name": "python3"
  },
  "language_info": {
   "codemirror_mode": {
    "name": "ipython",
    "version": 3
   },
   "file_extension": ".py",
   "mimetype": "text/x-python",
   "name": "python",
   "nbconvert_exporter": "python",
   "pygments_lexer": "ipython3",
   "version": "3.11.5"
  }
 },
 "nbformat": 4,
 "nbformat_minor": 5
}
