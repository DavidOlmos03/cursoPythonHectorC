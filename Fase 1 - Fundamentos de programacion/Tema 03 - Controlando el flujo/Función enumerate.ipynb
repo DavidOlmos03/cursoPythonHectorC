{
 "cells": [
  {
   "cell_type": "markdown",
   "id": "712ed9d5",
   "metadata": {},
   "source": [
    "<div class=\"alert alert-block alert-danger text-center\"><b>ESTUDIO PRELIMINAR</b></div>"
   ]
  },
  {
   "cell_type": "code",
   "execution_count": 3,
   "id": "788f3f6c",
   "metadata": {},
   "outputs": [
    {
     "name": "stdout",
     "output_type": "stream",
     "text": [
      "Hola\n",
      "4\n",
      "Adiós\n",
      "[1, 2, 3]\n"
     ]
    }
   ],
   "source": [
    "elementos = [\"Hola\", 4, \"Adiós\",[1,2,3]]\n",
    "for e in elementos:\n",
    "    print(e)"
   ]
  },
  {
   "cell_type": "code",
   "execution_count": 4,
   "id": "56ac77c8",
   "metadata": {},
   "outputs": [
    {
     "name": "stdout",
     "output_type": "stream",
     "text": [
      "0 Hola\n",
      "1 4\n",
      "2 Adiós\n",
      "3 [1, 2, 3]\n"
     ]
    }
   ],
   "source": [
    "for i,e in enumerate(elementos):\n",
    "    print(i, e)"
   ]
  },
  {
   "cell_type": "code",
   "execution_count": 5,
   "id": "04bbdf61",
   "metadata": {},
   "outputs": [
    {
     "name": "stdout",
     "output_type": "stream",
     "text": [
      "1 2 3\n"
     ]
    }
   ],
   "source": [
    "a, b , c = 1, 2, 3\n",
    "print(a,b,c)"
   ]
  },
  {
   "cell_type": "code",
   "execution_count": 7,
   "id": "7535167a",
   "metadata": {},
   "outputs": [
    {
     "name": "stdout",
     "output_type": "stream",
     "text": [
      "1 2 3\n"
     ]
    }
   ],
   "source": [
    "(num1, num2, num3) = (1, 2, 3)\n",
    "print(num1, num2, num3)"
   ]
  },
  {
   "cell_type": "code",
   "execution_count": 8,
   "id": "322c8675",
   "metadata": {},
   "outputs": [
    {
     "name": "stdout",
     "output_type": "stream",
     "text": [
      "1 2 3\n"
     ]
    }
   ],
   "source": [
    "[num1, num2, num3] = [1, 2, 3]\n",
    "print(num1, num2, num3)"
   ]
  },
  {
   "cell_type": "code",
   "execution_count": 9,
   "id": "52437cc6",
   "metadata": {},
   "outputs": [],
   "source": [
    "def function():\n",
    "    return 10, 50, 100"
   ]
  },
  {
   "cell_type": "code",
   "execution_count": 11,
   "id": "b03e98c8",
   "metadata": {},
   "outputs": [
    {
     "name": "stdout",
     "output_type": "stream",
     "text": [
      "(10, 50, 100)\n"
     ]
    }
   ],
   "source": [
    "print(function())"
   ]
  },
  {
   "cell_type": "code",
   "execution_count": 13,
   "id": "a2d43b8e",
   "metadata": {},
   "outputs": [
    {
     "data": {
      "text/plain": [
       "[(0, 'Hola'), (1, 4), (2, 'Adiós'), (3, [1, 2, 3])]"
      ]
     },
     "execution_count": 13,
     "metadata": {},
     "output_type": "execute_result"
    }
   ],
   "source": [
    "list(enumerate(elementos))"
   ]
  },
  {
   "cell_type": "markdown",
   "id": "19ac72c7",
   "metadata": {},
   "source": [
    "<div class=\"alert alert-block alert-success text-center\"><b>FUNCIÓN ENUMERATE</b></div>\n",
    "\n"
   ]
  },
  {
   "cell_type": "code",
   "execution_count": 4,
   "id": "b017a968",
   "metadata": {
    "scrolled": true
   },
   "outputs": [
    {
     "name": "stdout",
     "output_type": "stream",
     "text": [
      "(0, 'Hola')\n",
      "(1, 4)\n",
      "(2, 'Adiós')\n",
      "(3, [1, 2, 3])\n"
     ]
    }
   ],
   "source": [
    "for tupla in enumerate(elementos):\n",
    "    print(tupla)"
   ]
  },
  {
   "cell_type": "code",
   "execution_count": 15,
   "id": "0ea5697b",
   "metadata": {},
   "outputs": [
    {
     "name": "stdout",
     "output_type": "stream",
     "text": [
      "0 Hola\n",
      "1 4\n",
      "2 Adiós\n",
      "3 [1, 2, 3]\n"
     ]
    }
   ],
   "source": [
    "for indice,valor in enumerate(elementos):\n",
    "    print(indice,valor)"
   ]
  },
  {
   "cell_type": "markdown",
   "id": "4a0304a6",
   "metadata": {},
   "source": [
    "## Ejercicio utilizando enumerate"
   ]
  },
  {
   "cell_type": "markdown",
   "id": "cdf21a9a",
   "metadata": {},
   "source": [
    "En este ejercicio se te va a facilitar una variable iniciales que contiene una lista con un número indeterminado de cadenas de texto. \n",
    "Tu objetivo es modificar las cadenas de esa lista por la letra inicial de cada cadena en la lista utilizando, si lo requieres, la función enumerate.\n",
    "Supongamos que iniciales tiene el siguiente valor [\"Hola\", \"Mundo\"], tu objetivo sería transformar esos valores a [\"H\", \"M\"].\n",
    "\n",
    "\n",
    "\n"
   ]
  },
  {
   "cell_type": "code",
   "execution_count": 18,
   "id": "e9e7b25f",
   "metadata": {},
   "outputs": [],
   "source": [
    "iniciales = [\"Ana\",\"Maria\",\"A\"]"
   ]
  },
  {
   "cell_type": "markdown",
   "id": "6aaf8fa5",
   "metadata": {},
   "source": [
    "forma 1:"
   ]
  },
  {
   "cell_type": "code",
   "execution_count": 21,
   "id": "d99c238d",
   "metadata": {},
   "outputs": [],
   "source": [
    "for indice,cadena in enumerate(iniciales):\n",
    "    iniciales[indice] = iniciales[indice][0]"
   ]
  },
  {
   "cell_type": "markdown",
   "id": "8a0fbceb",
   "metadata": {},
   "source": [
    "forma 2:"
   ]
  },
  {
   "cell_type": "code",
   "execution_count": 19,
   "id": "c9dfc102",
   "metadata": {},
   "outputs": [],
   "source": [
    "for indice,cadena in enumerate(iniciales):\n",
    "    iniciales[indice] = cadena[0]"
   ]
  },
  {
   "cell_type": "markdown",
   "id": "38c55a5f",
   "metadata": {},
   "source": [
    "Resultado:"
   ]
  },
  {
   "cell_type": "code",
   "execution_count": 22,
   "id": "d89940c7",
   "metadata": {
    "scrolled": true
   },
   "outputs": [
    {
     "name": "stdout",
     "output_type": "stream",
     "text": [
      "['A', 'M', 'A']\n"
     ]
    }
   ],
   "source": [
    "print(iniciales)"
   ]
  },
  {
   "cell_type": "markdown",
   "id": "4ab8604e",
   "metadata": {},
   "source": [
    "#### Ejercicio 2\n",
    "\n",
    "Iteraciones y conversiones\n",
    "\n",
    "1. Pide al usuario que introduzca un número entero por teclado entre 1 y 9 (ambos incluidos) y guárdalo en la variable numero. Debes asegurarte de que esa variable numero contiene un numero entero del 1 al 9, utiliza un bucle para repetir la lectura hasta que se cumpla esa condición.\n",
    "\n",
    "2. Genera una lista llamada multiplos que contenga los múltiplos de numero en el rango de 1 a 100 (ambos incluidos) utilizando la conversión de un range a list con un paso: list(range(Min,Max,Paso))."
   ]
  },
  {
   "cell_type": "code",
   "execution_count": 50,
   "id": "8d4516b0",
   "metadata": {},
   "outputs": [
    {
     "name": "stdout",
     "output_type": "stream",
     "text": [
      "Ingrese un número entero entre 1 y 9: 1\n",
      "[1, 2, 3, 4, 5, 6, 7, 8, 9, 10, 11, 12, 13, 14, 15, 16, 17, 18, 19, 20, 21, 22, 23, 24, 25, 26, 27, 28, 29, 30, 31, 32, 33, 34, 35, 36, 37, 38, 39, 40, 41, 42, 43, 44, 45, 46, 47, 48, 49, 50, 51, 52, 53, 54, 55, 56, 57, 58, 59, 60, 61, 62, 63, 64, 65, 66, 67, 68, 69, 70, 71, 72, 73, 74, 75, 76, 77, 78, 79, 80, 81, 82, 83, 84, 85, 86, 87, 88, 89, 90, 91, 92, 93, 94, 95, 96, 97, 98, 99, 100]\n"
     ]
    }
   ],
   "source": [
    "numero = int(input(\"Ingrese un número entero entre 1 y 9: \"))\n",
    "##Checking número ingresado\n",
    "while numero<1 or numero>9:\n",
    "    numero = int(input(\"Ingrese un número entero entre 1 y 9: \"))\n",
    "\n",
    "##Generación de la lista\n",
    "multiplos = list(range(numero,101,numero))\n",
    "print(multiplos)"
   ]
  },
  {
   "cell_type": "code",
   "execution_count": null,
   "id": "27344231",
   "metadata": {},
   "outputs": [],
   "source": []
  }
 ],
 "metadata": {
  "kernelspec": {
   "display_name": "Python 3 (ipykernel)",
   "language": "python",
   "name": "python3"
  },
  "language_info": {
   "codemirror_mode": {
    "name": "ipython",
    "version": 3
   },
   "file_extension": ".py",
   "mimetype": "text/x-python",
   "name": "python",
   "nbconvert_exporter": "python",
   "pygments_lexer": "ipython3",
   "version": "3.11.5"
  }
 },
 "nbformat": 4,
 "nbformat_minor": 5
}
